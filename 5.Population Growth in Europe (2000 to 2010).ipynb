{
 "cells": [
  {
   "cell_type": "code",
   "execution_count": null,
   "metadata": {},
   "outputs": [
    {
     "ename": "NameError",
     "evalue": "name 'europe_data_2000' is not defined",
     "output_type": "error",
     "traceback": [
      "\u001b[1;31m---------------------------------------------------------------------------\u001b[0m",
      "\u001b[1;31mNameError\u001b[0m                                 Traceback (most recent call last)",
      "Cell \u001b[1;32mIn[4], line 16\u001b[0m\n\u001b[0;32m     13\u001b[0m data_europe_2010 \u001b[38;5;241m=\u001b[39m data[(data[\u001b[38;5;124m'\u001b[39m\u001b[38;5;124myear\u001b[39m\u001b[38;5;124m'\u001b[39m] \u001b[38;5;241m==\u001b[39m \u001b[38;5;241m2010\u001b[39m) \u001b[38;5;241m&\u001b[39m (data[\u001b[38;5;124m'\u001b[39m\u001b[38;5;124mcontinent\u001b[39m\u001b[38;5;124m'\u001b[39m] \u001b[38;5;241m==\u001b[39m \u001b[38;5;124m'\u001b[39m\u001b[38;5;124mEurope\u001b[39m\u001b[38;5;124m'\u001b[39m)]\n\u001b[0;32m     15\u001b[0m \u001b[38;5;66;03m# Merge the 2000 and 2010 data for European countries\u001b[39;00m\n\u001b[1;32m---> 16\u001b[0m total_population_2000 \u001b[38;5;241m=\u001b[39m \u001b[38;5;28mint\u001b[39m(\u001b[43meurope_data_2000\u001b[49m[\u001b[38;5;124m'\u001b[39m\u001b[38;5;124mpopulation\u001b[39m\u001b[38;5;124m'\u001b[39m]\u001b[38;5;241m.\u001b[39msum())\n\u001b[0;32m     17\u001b[0m total_population_2010 \u001b[38;5;241m=\u001b[39m \u001b[38;5;28mint\u001b[39m(europe_data_2010[\u001b[38;5;124m'\u001b[39m\u001b[38;5;124mpopulation\u001b[39m\u001b[38;5;124m'\u001b[39m]\u001b[38;5;241m.\u001b[39msum())\n\u001b[0;32m     20\u001b[0m \u001b[38;5;66;03m# Calculate the population growth for each country\u001b[39;00m\n",
      "\u001b[1;31mNameError\u001b[0m: name 'europe_data_2000' is not defined"
     ]
    }
   ],
   "source": [
    "# Calculate the total population growth in Europe between 2000 and 2010.\n",
    "# Identify the top 5 European countries by population growth during this period.\n",
    "# Create a line plot showing the population changes of these countries from 2000 to 2010.\n",
    "\n",
    "import pandas as pd\n",
    "import matplotlib.pyplot as plt\n",
    "\n",
    "# Load the dataset\n",
    "data = pd.read_csv('population.csv')\n",
    "\n",
    "# Filter the data for the years 2000 and 2010, and for the continent Europe\n",
    "data_europe_2000 = data[(data['year'] == 2000) & (data['continent'] == 'Europe')]\n",
    "data_europe_2010 = data[(data['year'] == 2010) & (data['continent'] == 'Europe')]\n",
    "\n",
    "# Merge the 2000 and 2010 data for European countries\n",
    "europe_growth = pd.merge(data_europe_2000[['country name', 'population']], \n",
    "                         data_europe_2010[['country name', 'population']], \n",
    "                         on='country name', \n",
    "                         suffixes=('_2000', '_2010'))\n",
    "\n",
    "# Calculate the population growth for each country\n",
    "europe_growth['growth'] = europe_growth['population_2010'] - europe_growth['population_2000']\n",
    "\n",
    "# Calculate the total population growth for Europe between 2000 and 2010\n",
    "total_growth_europe = europe_growth['growth'].sum()\n",
    "print(f\"Total population growth in Europe between 2000 and 2010: {total_growth_europe} million\")\n",
    "\n",
    "# Identify the top 5 countries by population growth\n",
    "top_5_growth = europe_growth.nlargest(5, 'growth')\n",
    "\n",
    "# Display the top 5 countries by population growth\n",
    "print(\"\\nTop 5 European countries by population growth between 2000 and 2010:\")\n",
    "print(top_5_growth[['country name', 'growth']])\n",
    "\n",
    "# Create a line plot showing the population changes of these countries from 2000 to 2010\n",
    "top_5_countries = top_5_growth['country name'].tolist()\n",
    "top_5_data = data_europe_2000[data_europe_2000['country name'].isin(top_5_countries)]\n",
    "\n",
    "# Merge the 2000 and 2010 data for the top 5 countries\n",
    "top_5_data_2010 = data_europe_2010[data_europe_2010['country name'].isin(top_5_countries)]\n",
    "top_5_data_combined = pd.concat([top_5_data[['country name', 'year', 'population']], \n",
    "                                 top_5_data_2010[['country name', 'year', 'population']]])\n",
    "\n",
    "# Plotting the line plot\n",
    "plt.figure(figsize=(12, 6))\n",
    "for country in top_5_countries:\n",
    "    country_data = top_5_data_combined[top_5_data_combined['country name'] == country]\n",
    "    plt.plot(country_data['year'], country_data['population'], marker='o', label=country)\n",
    "\n",
    "plt.xlabel('Year', fontsize=12)\n",
    "plt.ylabel('Population (in millions)', fontsize=12)\n",
    "plt.title('Population Changes in the Top 5 European Countries (2000-2010)', fontsize=14)\n",
    "plt.legend()\n",
    "plt.grid(True)\n",
    "plt.tight_layout()\n",
    "plt.show()"
   ]
  }
 ],
 "metadata": {
  "kernelspec": {
   "display_name": "Python 3",
   "language": "python",
   "name": "python3"
  },
  "language_info": {
   "codemirror_mode": {
    "name": "ipython",
    "version": 3
   },
   "file_extension": ".py",
   "mimetype": "text/x-python",
   "name": "python",
   "nbconvert_exporter": "python",
   "pygments_lexer": "ipython3",
   "version": "3.13.0"
  }
 },
 "nbformat": 4,
 "nbformat_minor": 2
}
