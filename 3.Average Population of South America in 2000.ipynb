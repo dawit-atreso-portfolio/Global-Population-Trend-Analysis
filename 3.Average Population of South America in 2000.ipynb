{
 "cells": [
  {
   "cell_type": "code",
   "execution_count": null,
   "metadata": {},
   "outputs": [
    {
     "name": "stdout",
     "output_type": "stream",
     "text": [
      "Average population of South American countries in 2000: 24.5 million\n",
      "\n",
      "Countries with populations above the average:\n",
      "    country name  population\n",
      "77     Argentina        37.0\n",
      "143       Brazil       176.0\n",
      "176     Colombia        38.0\n",
      "407         Peru        26.0\n",
      "\n",
      "Countries with populations below or equal to the average:\n",
      "                          country name  population\n",
      "132                            Bolivia         8.0\n",
      "165                              Chile        15.0\n",
      "231                            Ecuador        12.0\n",
      "253  Falkland Islands (Islas Malvinas)         0.0\n",
      "264                      French Guiana         0.0\n",
      "308                             Guyana         0.0\n",
      "396                           Paraguay         5.0\n",
      "462                           Suriname         0.0\n",
      "495                            Uruguay         3.0\n",
      "506                          Venezuela        23.0\n"
     ]
    }
   ],
   "source": [
    "# Determine the average population of countries in South America for the year 2000.\n",
    "# Highlight countries with populations above and below this average. Include the lists in your analysis.\n",
    "\n",
    "import pandas as pd\n",
    "\n",
    "# Load the dataset\n",
    "data = pd.read_csv('population.csv')\n",
    "\n",
    "# Filter the data for the year 2000 and continent South America\n",
    "data_2000_south_america = data[(data['year'] == 2000) & (data['continent'] == 'South America')]\n",
    "\n",
    "# Calculate the average population for South American countries in 2000\n",
    "average_population_south_america_2000 = data_2000_south_america['population'].mean()\n",
    "print(f\"Average population of South American countries in 2000: {average_population_south_america_2000} million\")\n",
    "\n",
    "# Separate countries with populations above and below the average\n",
    "above_average = data_2000_south_america[data_2000_south_america['population'] > average_population_south_america_2000]\n",
    "below_average = data_2000_south_america[data_2000_south_america['population'] <= average_population_south_america_2000]\n",
    "\n",
    "# Display the lists of countries\n",
    "print(\"\\nCountries with populations above the average:\")\n",
    "print(above_average[['country name', 'population']])\n",
    "\n",
    "print(\"\\nCountries with populations below or equal to the average:\")\n",
    "print(below_average[['country name', 'population']])\n",
    "\n",
    "# Summary\n",
    "# In 2000, the average population of South American countries was approximately 24.5 million. \n",
    "# Countries like Argentina, Brazil, Colombia, Peru had populations above the average, indicating their role as major demographic hubs in the region.\n",
    "# These nations likely have greater influence in economic and social dynamics due to their larger populations."
   ]
  }
 ],
 "metadata": {
  "kernelspec": {
   "display_name": "Python 3",
   "language": "python",
   "name": "python3"
  },
  "language_info": {
   "codemirror_mode": {
    "name": "ipython",
    "version": 3
   },
   "file_extension": ".py",
   "mimetype": "text/x-python",
   "name": "python",
   "nbconvert_exporter": "python",
   "pygments_lexer": "ipython3",
   "version": "3.13.0"
  }
 },
 "nbformat": 4,
 "nbformat_minor": 2
}
