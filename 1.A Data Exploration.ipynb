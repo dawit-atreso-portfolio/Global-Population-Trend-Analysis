{
 "cells": [
  {
   "cell_type": "code",
   "execution_count": null,
   "metadata": {},
   "outputs": [
    {
     "name": "stdout",
     "output_type": "stream",
     "text": [
      "First few rows of the reshaped dataset:\n",
      "year            2000  2001  2002  2003  2004  2005  2006  2007  2008  2009  \\\n",
      "country name                                                                 \n",
      "Afghanistan     22.0  22.0  23.0  24.0  25.0  25.0  26.0  26.0  27.0  28.0   \n",
      "Albania          3.0   3.0   3.0   3.0   3.0   3.0   3.0   2.0   2.0   2.0   \n",
      "Algeria         30.0  30.0  31.0  31.0  32.0  32.0  32.0  33.0  33.0  34.0   \n",
      "American Samoa   0.0   0.0   0.0   0.0   0.0   0.0   0.0   0.0   0.0   0.0   \n",
      "Angola          10.0  10.0  10.0  11.0  11.0  11.0  11.0  12.0  12.0  12.0   \n",
      "\n",
      "year            2010  \n",
      "country name          \n",
      "Afghanistan     29.0  \n",
      "Albania          2.0  \n",
      "Algeria         34.0  \n",
      "American Samoa   0.0  \n",
      "Angola          13.0  \n",
      "\n",
      "Column names and data types:\n",
      "year\n",
      "2000    float64\n",
      "2001    float64\n",
      "2002    float64\n",
      "2003    float64\n",
      "2004    float64\n",
      "2005    float64\n",
      "2006    float64\n",
      "2007    float64\n",
      "2008    float64\n",
      "2009    float64\n",
      "2010    float64\n",
      "dtype: object\n",
      "\n",
      "Missing or null values:\n",
      "year\n",
      "2000    0\n",
      "2001    0\n",
      "2002    0\n",
      "2003    0\n",
      "2004    0\n",
      "2005    0\n",
      "2006    0\n",
      "2007    0\n",
      "2008    0\n",
      "2009    0\n",
      "2010    0\n",
      "dtype: int64\n"
     ]
    }
   ],
   "source": [
    "# Load the dataset using Pandas.\n",
    "# Reshape the dataset to organise years as columns if necessary.\n",
    "# Display:\n",
    "# The first few rows of the reshaped dataset.\n",
    "# Column names and their data types.\n",
    "# Any missing or null values in the dataset.\n",
    "\n",
    "import pandas as pd\n",
    "import matplotlib.pyplot as plt\n",
    " \n",
    " \n",
    " # Load the dataset\n",
    "df = pd.read_csv('population.csv')\n",
    " \n",
    " \n",
    "df_reshaped = df.pivot_table(index='country name', columns='year', values='population', aggfunc='sum')\n",
    " \n",
    " \n",
    "print(\"First few rows of the reshaped dataset:\")\n",
    "print(df_reshaped.head())\n",
    " \n",
    " \n",
    "print(\"\\nColumn names and data types:\")\n",
    "print(df_reshaped.dtypes)\n",
    " \n",
    " \n",
    "print(\"\\nMissing or null values:\")\n",
    "print(df_reshaped.isnull().sum())"
   ]
  }
 ],
 "metadata": {
  "kernelspec": {
   "display_name": "Python 3",
   "language": "python",
   "name": "python3"
  },
  "language_info": {
   "codemirror_mode": {
    "name": "ipython",
    "version": 3
   },
   "file_extension": ".py",
   "mimetype": "text/x-python",
   "name": "python",
   "nbconvert_exporter": "python",
   "pygments_lexer": "ipython3",
   "version": "3.13.0"
  }
 },
 "nbformat": 4,
 "nbformat_minor": 2
}
